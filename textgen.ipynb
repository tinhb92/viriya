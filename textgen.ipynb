{
 "cells": [
  {
   "cell_type": "code",
   "execution_count": 55,
   "metadata": {},
   "outputs": [],
   "source": [
    "%reload_ext autoreload\n",
    "%autoreload 2\n",
    "%matplotlib inline"
   ]
  },
  {
   "cell_type": "code",
   "execution_count": 56,
   "metadata": {},
   "outputs": [],
   "source": [
    "from fastai.text import *"
   ]
  },
  {
   "cell_type": "code",
   "execution_count": 30,
   "metadata": {},
   "outputs": [
    {
     "data": {
      "text/plain": [
       "'Inconsistent use of spaces.'"
      ]
     },
     "execution_count": 30,
     "metadata": {},
     "output_type": "execute_result"
    }
   ],
   "source": [
    "rm_useless_spaces(\"Inconsistent   use  of     spaces.\")"
   ]
  },
  {
   "cell_type": "code",
   "execution_count": 6,
   "metadata": {},
   "outputs": [],
   "source": [
    "bs = 256\n",
    "bptt = 35"
   ]
  },
  {
   "cell_type": "code",
   "execution_count": 25,
   "metadata": {},
   "outputs": [],
   "source": [
    "dat = (TextList.from_folder('')\n",
    "            .split_by_files('valid.txt')\n",
    "            .label_for_lm()           \n",
    "            .databunch(bs=bs, num_workers=1))"
   ]
  },
  {
   "cell_type": "code",
   "execution_count": 26,
   "metadata": {},
   "outputs": [
    {
     "data": {
      "text/plain": [
       "\u001b[0;31mType:\u001b[0m        TextLMDataBunch\n",
       "\u001b[0;31mString form:\u001b[0m\n",
       "TextLMDataBunch;\n",
       "           \n",
       "           Train: LabelList (4 items)\n",
       "           x: LMTextList\n",
       "           xxbos xxunk xxmaj contents\n",
       "           xxmaj no <...>  the questions of training and xxmaj sangha building .\n",
       "           \n",
       "           \n",
       "           y: LMLabelList\n",
       "           ,\n",
       "           Path: .;\n",
       "           \n",
       "           Test: None\n",
       "\u001b[0;31mFile:\u001b[0m        /opt/anaconda3/lib/python3.7/site-packages/fastai/text/data.py\n",
       "\u001b[0;31mDocstring:\u001b[0m   Create a `TextDataBunch` suitable for training a language model.\n"
      ]
     },
     "metadata": {},
     "output_type": "display_data"
    }
   ],
   "source": [
    "?dat"
   ]
  },
  {
   "cell_type": "code",
   "execution_count": 8,
   "metadata": {},
   "outputs": [],
   "source": [
    "# [] list has some method\n",
    "# voc.itos is a list so it has those default method"
   ]
  },
  {
   "cell_type": "code",
   "execution_count": 51,
   "metadata": {},
   "outputs": [
    {
     "data": {
      "text/plain": [
       "LabelList (58665 items)\n",
       "x: LMTextList\n",
       "\n",
       ",\n",
       ",\n",
       ",\n",
       ",\n",
       "\n",
       "y: LMLabelList\n",
       ",,,,\n",
       "Path: data"
      ]
     },
     "execution_count": 51,
     "metadata": {},
     "output_type": "execute_result"
    }
   ],
   "source": [
    "dat.train_ds"
   ]
  },
  {
   "cell_type": "code",
   "execution_count": 28,
   "metadata": {},
   "outputs": [
    {
     "data": {
      "text/html": [
       "<table border=\"1\" class=\"dataframe\">\n",
       "  <thead>\n",
       "    <tr style=\"text-align: right;\">\n",
       "      <th>idx</th>\n",
       "      <th>text</th>\n",
       "    </tr>\n",
       "  </thead>\n",
       "  <tbody>\n",
       "    <tr>\n",
       "      <td>0</td>\n",
       "      <td>xxmaj when we ’re eating , we \\n  know that we are eating . xxmaj when we open a \\n  door , we know that we ’re opening a door . xxmaj our \\n  mind is with our actions . \\n  xxmaj when you put a piece of fruit into your \\n  mouth , all you need is a little bit of mindfulness \\n</td>\n",
       "    </tr>\n",
       "    <tr>\n",
       "      <td>1</td>\n",
       "      <td>’ll have joy . \\n  xxup xxunk \\n \\n \\n  xxmaj the xxmaj planet xxmaj is xxmaj us \\n  xxmaj our food comes from this beautiful planet . xxmaj the \\n  xxmaj earth is inside of us , in each morsel of food , in \\n  the air we breathe , in the water that we drink \\n  and that flows through us .</td>\n",
       "    </tr>\n",
       "    <tr>\n",
       "      <td>2</td>\n",
       "      <td>to be shared with young \\n  people before a meal , but they can be enjoyed \\n  by xxunk . \\n  1 . \u0007this food is the gift of the whole universe : \\n  the xxmaj earth , the sky , the rain , and the sun . \\n  2 . xxup w\u0007 e thank the people who have made this \\n  food ,</td>\n",
       "    </tr>\n",
       "    <tr>\n",
       "      <td>3</td>\n",
       "      <td>health , in the xxunk incidence of heart attacks , \\n  cancer , and other fatal diseases . xxmaj the average person \\n  looking out on this ever - changing , seemingly xxunk \\n  world sees anything but natural karmic laws at work , \\n  nor does he perceive the unity and harmony under- \\n  lying this constant and inevitable change . xxmaj if anything</td>\n",
       "    </tr>\n",
       "    <tr>\n",
       "      <td>4</td>\n",
       "      <td>xxmaj using \\n \\n \\n  xxup awareness xxup of xxup being 21 \\n  the telephone , i wish that all living beings should free \\n  themselves of doubt and prejudice in order that com- \\n  munication between them should be readily estab- \\n  lished . \" \\n  xxmaj when i was seventeen years xxunk , i thought that the \\n  xxmaj little xxmaj</td>\n",
       "    </tr>\n",
       "  </tbody>\n",
       "</table>"
      ],
      "text/plain": [
       "<IPython.core.display.HTML object>"
      ]
     },
     "metadata": {},
     "output_type": "display_data"
    }
   ],
   "source": [
    "# need to avoid using \\n when not end of line\n",
    "dat.show_batch()"
   ]
  },
  {
   "cell_type": "code",
   "execution_count": 60,
   "metadata": {},
   "outputs": [],
   "source": [
    "learn = language_model_learner(dat, AWD_LSTM, drop_mult=0.3)"
   ]
  },
  {
   "cell_type": "code",
   "execution_count": null,
   "metadata": {},
   "outputs": [],
   "source": [
    "learn.lr_find()"
   ]
  },
  {
   "cell_type": "code",
   "execution_count": null,
   "metadata": {},
   "outputs": [],
   "source": [
    "learn.recorder.plot(skip_end=15)"
   ]
  },
  {
   "cell_type": "code",
   "execution_count": 61,
   "metadata": {},
   "outputs": [
    {
     "data": {
      "text/html": [
       "<table border=\"1\" class=\"dataframe\">\n",
       "  <thead>\n",
       "    <tr style=\"text-align: left;\">\n",
       "      <th>epoch</th>\n",
       "      <th>train_loss</th>\n",
       "      <th>valid_loss</th>\n",
       "      <th>accuracy</th>\n",
       "      <th>time</th>\n",
       "    </tr>\n",
       "  </thead>\n",
       "  <tbody>\n",
       "    <tr>\n",
       "      <td>0</td>\n",
       "      <td>6.002317</td>\n",
       "      <td>4.947550</td>\n",
       "      <td>0.186663</td>\n",
       "      <td>00:41</td>\n",
       "    </tr>\n",
       "  </tbody>\n",
       "</table>"
      ],
      "text/plain": [
       "<IPython.core.display.HTML object>"
      ]
     },
     "metadata": {},
     "output_type": "display_data"
    }
   ],
   "source": [
    "learn.fit_one_cycle(1, 1e-2, moms=(0.8,0.7))"
   ]
  },
  {
   "cell_type": "code",
   "execution_count": 65,
   "metadata": {},
   "outputs": [],
   "source": [
    "learn.unfreeze()"
   ]
  },
  {
   "cell_type": "code",
   "execution_count": 66,
   "metadata": {},
   "outputs": [
    {
     "data": {
      "text/html": [
       "<table border=\"1\" class=\"dataframe\">\n",
       "  <thead>\n",
       "    <tr style=\"text-align: left;\">\n",
       "      <th>epoch</th>\n",
       "      <th>train_loss</th>\n",
       "      <th>valid_loss</th>\n",
       "      <th>accuracy</th>\n",
       "      <th>time</th>\n",
       "    </tr>\n",
       "  </thead>\n",
       "  <tbody>\n",
       "    <tr>\n",
       "      <td>0</td>\n",
       "      <td>5.118363</td>\n",
       "      <td>5.465689</td>\n",
       "      <td>0.089565</td>\n",
       "      <td>00:52</td>\n",
       "    </tr>\n",
       "    <tr>\n",
       "      <td>1</td>\n",
       "      <td>4.925669</td>\n",
       "      <td>5.039131</td>\n",
       "      <td>0.117132</td>\n",
       "      <td>00:52</td>\n",
       "    </tr>\n",
       "  </tbody>\n",
       "</table>"
      ],
      "text/plain": [
       "<IPython.core.display.HTML object>"
      ]
     },
     "metadata": {},
     "output_type": "display_data"
    }
   ],
   "source": [
    "learn.fit_one_cycle(2, 1e-3, moms=(0.8,0.7))"
   ]
  },
  {
   "cell_type": "code",
   "execution_count": 53,
   "metadata": {},
   "outputs": [],
   "source": [
    "learn.export('../viriya_deploy/tnh.pkl')"
   ]
  },
  {
   "cell_type": "code",
   "execution_count": 48,
   "metadata": {},
   "outputs": [],
   "source": [
    "TEXT = \"Practicing Concentration\"\n",
    "N_WORDS = 100\n",
    "N_SENTENCES = 5"
   ]
  },
  {
   "cell_type": "code",
   "execution_count": 49,
   "metadata": {},
   "outputs": [
    {
     "name": "stdout",
     "output_type": "stream",
     "text": [
      "Anger is good. Anger is good . It is a \n",
      "  good example . It is a good way to be able to be \n",
      " \n"
     ]
    }
   ],
   "source": [
    "print(learn.beam_search('Anger is good.', n_words=20, beam_sz=20))"
   ]
  },
  {
   "cell_type": "code",
   "execution_count": 67,
   "metadata": {},
   "outputs": [
    {
     "name": "stdout",
     "output_type": "stream",
     "text": [
      "Practicing Concentration m i n g i n g i s n e i n g i n g i s i n o \n",
      " t e r i n g i n g i s r i n g e i n d g i o g c e i e r i n g i n g \n",
      " a vertical zone of golden and green light in g a p e r p u s l e g r i e d i n g d e i s c i n u e s c e i n g\n",
      "Practicing Concentration g o c e i d d t t o t e s t t i e n g \n",
      " t r e s e r m e s t i n g ( s n i e n e i n g i n r s i n i r n e o i n g r i n s e i s s e i n a i g i i n g e i n g i n e i n g g i n d i s i s e i s i n g i\n",
      "Practicing Concentration g e e i p r r e r d e r i s t u t t o t i n g i n g i e e r i n g r i n g t h r r i n g i n e i n d i g g e i n g i d i d i n g i n g t i o s i n g i e d i p n e g i s i s o i n g i n f i d i g i n g\n",
      "Practicing Concentration s \n",
      " e e p o n g e a l e e i n g e i e i n g e r i c e s r e i s n g i s n i d i n g i n g i s t i s e i h n e s r i n i n d i e i d i k i d i n g i n g i n g i n g i n d i n d i d i s d i n g i s e u\n",
      "Practicing Concentration g e i s g i n g is a e l i f e s i n l s s k i n g i n g i n g i d r r i n i n g a e m e r i n i n g i n i i e i n t i n g i n g i n d i g i d i n n g i d t i t o i n f i n g i f i n g i e r i e b s i\n"
     ]
    }
   ],
   "source": [
    "print(\"\\n\".join(learn.predict(TEXT, N_WORDS, temperature=0.75) for _ in range(N_SENTENCES)))"
   ]
  },
  {
   "cell_type": "code",
   "execution_count": null,
   "metadata": {},
   "outputs": [],
   "source": []
  }
 ],
 "metadata": {
  "kernelspec": {
   "display_name": "Python 3",
   "language": "python",
   "name": "python3"
  },
  "language_info": {
   "codemirror_mode": {
    "name": "ipython",
    "version": 3
   },
   "file_extension": ".py",
   "mimetype": "text/x-python",
   "name": "python",
   "nbconvert_exporter": "python",
   "pygments_lexer": "ipython3",
   "version": "3.7.3"
  }
 },
 "nbformat": 4,
 "nbformat_minor": 2
}
